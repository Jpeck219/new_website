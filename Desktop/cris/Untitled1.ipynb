{
 "cells": [
  {
   "cell_type": "code",
   "execution_count": 7,
   "metadata": {},
   "outputs": [],
   "source": [
    "import pandas as pd"
   ]
  },
  {
   "cell_type": "code",
   "execution_count": 8,
   "metadata": {},
   "outputs": [],
   "source": [
    "import requests\n",
    "import json\n",
    "from yelp.client import Client\n",
    "import time\n"
   ]
  },
  {
   "cell_type": "code",
   "execution_count": 9,
   "metadata": {},
   "outputs": [],
   "source": [
    "# jonathan keys\n",
    "client_id = 'E1AQMelCA8e5oZKc-yWfhg'\n",
    "\n",
    "key= '43p9tSwkbBOVCEUsTURSCAQOXKzbiPIa5r0fTt3cKZT6W2zSXaT3nGQV4MUgu6EPQHKvPeqbio9N6sUMM3Ycug_3xphoP48sFtUf9wx-JdAWLPzGhZZP2c4hTF8SXXYx'"
   ]
  },
  {
   "cell_type": "code",
   "execution_count": 10,
   "metadata": {},
   "outputs": [],
   "source": [
    "term = 'Vegan' \n",
    "location = 'NYC' \n",
    "SEARCH_LIMIT = 10\n",
    "\n",
    "url = 'https://api.yelp.com/v3/businesses/search'\n",
    "\n",
    "headers = {\n",
    "        'Authorization': 'Bearer {}'.format(key),\n",
    "    }\n",
    "\n",
    "url_params = {\n",
    "                'term': term.replace(' ', '+'),\n",
    "                'location': location.replace(' ', '+'),\n",
    "                'limit': SEARCH_LIMIT\n",
    "            }\n",
    "response = requests.get(url, headers=headers, params=url_params)"
   ]
  },
  {
   "cell_type": "code",
   "execution_count": 11,
   "metadata": {},
   "outputs": [
    {
     "name": "stdout",
     "output_type": "stream",
     "text": [
      "9800 total matches found.\n"
     ]
    }
   ],
   "source": [
    "def yelp_call(url_params, key):\n",
    "    url = 'https://api.yelp.com/v3/businesses/search'\n",
    "    headers = {'Authorization': 'Bearer {}'.format(key)}\n",
    "    response = requests.get(url, headers=headers, params=url_params)\n",
    "    # put a loop here and return\n",
    "    \n",
    "    df = pd.DataFrame(response.json()['businesses'])\n",
    "    return df\n",
    "\n",
    "def all_results(url_params, key):\n",
    "    num = response.json()['total']\n",
    "    print('{} total matches found.'.format(num))\n",
    "    cur = 0\n",
    "    dfs = []\n",
    "    while cur < num and cur < 700:\n",
    "        url_params['offset'] = cur\n",
    "        dfs.append(yelp_call(url_params, key)) # change for a df\n",
    "        time.sleep(1) #Wait a second\n",
    "        cur += 50\n",
    "    df = pd.concat(dfs, ignore_index=True)\n",
    "    return df\n",
    "\n",
    "term = 'vegan'\n",
    "location = 'NY'\n",
    "url_params = {  'term': term.replace(' ', '+'),\n",
    "                'location': location.replace(' ', '+'),\n",
    "                'limit' : 50,\n",
    "                 'radius' : 20000\n",
    "             }\n",
    "df = all_results(url_params, key)\n"
   ]
  },
  {
   "cell_type": "code",
   "execution_count": 53,
   "metadata": {},
   "outputs": [],
   "source": [
    "df.to_csv('veganNY')\n"
   ]
  },
  {
   "cell_type": "code",
   "execution_count": 70,
   "metadata": {},
   "outputs": [],
   "source": [
    "# read the file \n",
    "df_ny_vegan = pd.read_csv('veganNY')"
   ]
  },
  {
   "cell_type": "code",
   "execution_count": 65,
   "metadata": {},
   "outputs": [
    {
     "data": {
      "text/plain": [
       "pandas.core.frame.DataFrame"
      ]
     },
     "execution_count": 65,
     "metadata": {},
     "output_type": "execute_result"
    }
   ],
   "source": [
    "type(df_1)"
   ]
  },
  {
   "cell_type": "code",
   "execution_count": 61,
   "metadata": {},
   "outputs": [],
   "source": [
    "# df_vegan_ny = pd.DataFrame()"
   ]
  },
  {
   "cell_type": "code",
   "execution_count": 69,
   "metadata": {},
   "outputs": [],
   "source": [
    "# df_1.head()"
   ]
  },
  {
   "cell_type": "code",
   "execution_count": 71,
   "metadata": {},
   "outputs": [],
   "source": [
    "df_ny_vegan = df_ny_vegan[['name','price', 'rating','review_count', 'transactions']] "
   ]
  },
  {
   "cell_type": "code",
   "execution_count": 72,
   "metadata": {},
   "outputs": [
    {
     "data": {
      "text/html": [
       "<div>\n",
       "<style scoped>\n",
       "    .dataframe tbody tr th:only-of-type {\n",
       "        vertical-align: middle;\n",
       "    }\n",
       "\n",
       "    .dataframe tbody tr th {\n",
       "        vertical-align: top;\n",
       "    }\n",
       "\n",
       "    .dataframe thead th {\n",
       "        text-align: right;\n",
       "    }\n",
       "</style>\n",
       "<table border=\"1\" class=\"dataframe\">\n",
       "  <thead>\n",
       "    <tr style=\"text-align: right;\">\n",
       "      <th></th>\n",
       "      <th>name</th>\n",
       "      <th>price</th>\n",
       "      <th>rating</th>\n",
       "      <th>review_count</th>\n",
       "      <th>transactions</th>\n",
       "    </tr>\n",
       "  </thead>\n",
       "  <tbody>\n",
       "    <tr>\n",
       "      <th>0</th>\n",
       "      <td>Jajaja</td>\n",
       "      <td>$$</td>\n",
       "      <td>4.5</td>\n",
       "      <td>717</td>\n",
       "      <td>['pickup', 'restaurant_reservation', 'delivery']</td>\n",
       "    </tr>\n",
       "    <tr>\n",
       "      <th>1</th>\n",
       "      <td>Seasoned Vegan</td>\n",
       "      <td>$$</td>\n",
       "      <td>4.0</td>\n",
       "      <td>1053</td>\n",
       "      <td>['pickup', 'delivery']</td>\n",
       "    </tr>\n",
       "    <tr>\n",
       "      <th>2</th>\n",
       "      <td>by CHLOE. West Village</td>\n",
       "      <td>$$</td>\n",
       "      <td>4.0</td>\n",
       "      <td>1598</td>\n",
       "      <td>['pickup', 'delivery']</td>\n",
       "    </tr>\n",
       "    <tr>\n",
       "      <th>3</th>\n",
       "      <td>XYST</td>\n",
       "      <td>$$</td>\n",
       "      <td>4.0</td>\n",
       "      <td>241</td>\n",
       "      <td>['restaurant_reservation']</td>\n",
       "    </tr>\n",
       "    <tr>\n",
       "      <th>4</th>\n",
       "      <td>Urban Vegan Kitchen</td>\n",
       "      <td>$$</td>\n",
       "      <td>4.0</td>\n",
       "      <td>354</td>\n",
       "      <td>['pickup', 'delivery']</td>\n",
       "    </tr>\n",
       "  </tbody>\n",
       "</table>\n",
       "</div>"
      ],
      "text/plain": [
       "                     name price  rating  review_count  \\\n",
       "0                  Jajaja    $$     4.5           717   \n",
       "1          Seasoned Vegan    $$     4.0          1053   \n",
       "2  by CHLOE. West Village    $$     4.0          1598   \n",
       "3                    XYST    $$     4.0           241   \n",
       "4     Urban Vegan Kitchen    $$     4.0           354   \n",
       "\n",
       "                                       transactions  \n",
       "0  ['pickup', 'restaurant_reservation', 'delivery']  \n",
       "1                            ['pickup', 'delivery']  \n",
       "2                            ['pickup', 'delivery']  \n",
       "3                        ['restaurant_reservation']  \n",
       "4                            ['pickup', 'delivery']  "
      ]
     },
     "execution_count": 72,
     "metadata": {},
     "output_type": "execute_result"
    }
   ],
   "source": [
    "df_ny_vegan.head()"
   ]
  },
  {
   "cell_type": "code",
   "execution_count": 74,
   "metadata": {},
   "outputs": [
    {
     "name": "stdout",
     "output_type": "stream",
     "text": [
      "<class 'pandas.core.frame.DataFrame'>\n",
      "RangeIndex: 700 entries, 0 to 699\n",
      "Data columns (total 5 columns):\n",
      "name            700 non-null object\n",
      "price           575 non-null object\n",
      "rating          700 non-null float64\n",
      "review_count    700 non-null int64\n",
      "transactions    700 non-null object\n",
      "dtypes: float64(1), int64(1), object(3)\n",
      "memory usage: 27.4+ KB\n"
     ]
    }
   ],
   "source": [
    "df_ny_vegan.info()"
   ]
  },
  {
   "cell_type": "code",
   "execution_count": 77,
   "metadata": {},
   "outputs": [
    {
     "data": {
      "text/plain": [
       "name              0\n",
       "price           125\n",
       "rating            0\n",
       "review_count      0\n",
       "transactions      0\n",
       "dtype: int64"
      ]
     },
     "execution_count": 77,
     "metadata": {},
     "output_type": "execute_result"
    }
   ],
   "source": [
    "# cheking for null values\n",
    "df_ny_vegan.isnull().sum()\n"
   ]
  },
  {
   "cell_type": "code",
   "execution_count": 76,
   "metadata": {},
   "outputs": [
    {
     "data": {
      "text/plain": [
       "$$      450\n",
       "$       103\n",
       "$$$      19\n",
       "$$$$      3\n",
       "Name: price, dtype: int64"
      ]
     },
     "execution_count": 76,
     "metadata": {},
     "output_type": "execute_result"
    }
   ],
   "source": [
    "# checking the the values in price \n",
    "df_ny_vegan.price.value_counts()"
   ]
  },
  {
   "cell_type": "code",
   "execution_count": 79,
   "metadata": {},
   "outputs": [],
   "source": [
    "# ax = df_ny_vegan.price.plot.box()"
   ]
  },
  {
   "cell_type": "code",
   "execution_count": null,
   "metadata": {},
   "outputs": [],
   "source": [
    "import matplotlib.pyplot as plt\n",
    "%matplotlib inline\n",
    "\n",
    "df.price = df.price.fillna(value=0)\n",
    "price_dict = {\"$\": 1, \"$$\":2, \"$$$\": 3, \"$$$$\":4}\n",
    "df.price = df.price.map(price_dict)\n",
    "\n",
    "pd.plotting.scatter_matrix(df[['price', 'rating', 'review_count']])"
   ]
  },
  {
   "cell_type": "code",
   "execution_count": null,
   "metadata": {},
   "outputs": [],
   "source": [
    "ax = df_ny_vegan.price.plot.box()"
   ]
  },
  {
   "cell_type": "code",
   "execution_count": null,
   "metadata": {},
   "outputs": [],
   "source": []
  },
  {
   "cell_type": "code",
   "execution_count": null,
   "metadata": {},
   "outputs": [],
   "source": []
  },
  {
   "cell_type": "code",
   "execution_count": null,
   "metadata": {},
   "outputs": [],
   "source": [
    "df_ny_vegan.price = df_ny_vegan.price.replace()"
   ]
  },
  {
   "cell_type": "code",
   "execution_count": 44,
   "metadata": {},
   "outputs": [
    {
     "name": "stderr",
     "output_type": "stream",
     "text": [
      "/anaconda3/lib/python3.7/site-packages/ipykernel_launcher.py:1: ParserWarning: Falling back to the 'python' engine because the 'c' engine does not support regex separators (separators > 1 char and different from '\\s+' are interpreted as regex); you can avoid this warning by specifying engine='python'.\n",
      "  \"\"\"Entry point for launching an IPython kernel.\n"
     ]
    }
   ],
   "source": [
    "df_vegan_NY_csv = pd.read_csv('veganNY', sep='delimiter', header= 0 ,error_bad_lines=False)"
   ]
  },
  {
   "cell_type": "code",
   "execution_count": 45,
   "metadata": {},
   "outputs": [
    {
     "data": {
      "text/html": [
       "<div>\n",
       "<style scoped>\n",
       "    .dataframe tbody tr th:only-of-type {\n",
       "        vertical-align: middle;\n",
       "    }\n",
       "\n",
       "    .dataframe tbody tr th {\n",
       "        vertical-align: top;\n",
       "    }\n",
       "\n",
       "    .dataframe thead th {\n",
       "        text-align: right;\n",
       "    }\n",
       "</style>\n",
       "<table border=\"1\" class=\"dataframe\">\n",
       "  <thead>\n",
       "    <tr style=\"text-align: right;\">\n",
       "      <th></th>\n",
       "      <th>,alias,categories,coordinates,display_phone,distance,id,image_url,is_closed,location,name,phone,price,rating,review_count,transactions,url</th>\n",
       "    </tr>\n",
       "  </thead>\n",
       "  <tbody>\n",
       "    <tr>\n",
       "      <th>0</th>\n",
       "      <td>0,jajaja-new-york,\"[{'alias': 'mexican', 'titl...</td>\n",
       "    </tr>\n",
       "    <tr>\n",
       "      <th>1</th>\n",
       "      <td>1,seasoned-vegan-new-york-2,\"[{'alias': 'vegan...</td>\n",
       "    </tr>\n",
       "    <tr>\n",
       "      <th>2</th>\n",
       "      <td>2,by-chloe-west-village-new-york,\"[{'alias': '...</td>\n",
       "    </tr>\n",
       "    <tr>\n",
       "      <th>3</th>\n",
       "      <td>3,xyst-new-york-2,\"[{'alias': 'vegan', 'title'...</td>\n",
       "    </tr>\n",
       "    <tr>\n",
       "      <th>4</th>\n",
       "      <td>4,urban-vegan-kitchen-new-york,\"[{'alias': 'so...</td>\n",
       "    </tr>\n",
       "    <tr>\n",
       "      <th>5</th>\n",
       "      <td>5,champs-diner-brooklyn,\"[{'alias': 'vegan', '...</td>\n",
       "    </tr>\n",
       "    <tr>\n",
       "      <th>6</th>\n",
       "      <td>6,greedi-vegan-brooklyn-3,\"[{'alias': 'vegan',...</td>\n",
       "    </tr>\n",
       "    <tr>\n",
       "      <th>7</th>\n",
       "      <td>7,spring-cafe-new-york,\"[{'alias': 'vegan', 't...</td>\n",
       "    </tr>\n",
       "    <tr>\n",
       "      <th>8</th>\n",
       "      <td>8,le-botaniste-new-york-4,\"[{'alias': 'vegetar...</td>\n",
       "    </tr>\n",
       "    <tr>\n",
       "      <th>9</th>\n",
       "      <td>9,happy-zoe-vegan-bakery-brooklyn,\"[{'alias': ...</td>\n",
       "    </tr>\n",
       "    <tr>\n",
       "      <th>10</th>\n",
       "      <td>10,original-buddha-bodai-kosher-vegetarian-res...</td>\n",
       "    </tr>\n",
       "    <tr>\n",
       "      <th>11</th>\n",
       "      <td>11,dirt-candy-new-york-2,\"[{'alias': 'vegetari...</td>\n",
       "    </tr>\n",
       "    <tr>\n",
       "      <th>12</th>\n",
       "      <td>12,supernatural-new-york,\"[{'alias': 'vegan', ...</td>\n",
       "    </tr>\n",
       "    <tr>\n",
       "      <th>13</th>\n",
       "      <td>13,le-botaniste-new-york-5,\"[{'alias': 'vegan'...</td>\n",
       "    </tr>\n",
       "    <tr>\n",
       "      <th>14</th>\n",
       "      <td>14,by-chloe-flatiron-new-york-2,\"[{'alias': 'v...</td>\n",
       "    </tr>\n",
       "    <tr>\n",
       "      <th>15</th>\n",
       "      <td>15,double-zero-new-york,\"[{'alias': 'pizza', '...</td>\n",
       "    </tr>\n",
       "    <tr>\n",
       "      <th>16</th>\n",
       "      <td>16,bar-verde-new-york,\"[{'alias': 'mexican', '...</td>\n",
       "    </tr>\n",
       "    <tr>\n",
       "      <th>17</th>\n",
       "      <td>17,honeybee-s-new-york,\"[{'alias': 'vegan', 't...</td>\n",
       "    </tr>\n",
       "    <tr>\n",
       "      <th>18</th>\n",
       "      <td>18,peacefood-cafe-new-york-5,\"[{'alias': 'vega...</td>\n",
       "    </tr>\n",
       "    <tr>\n",
       "      <th>19</th>\n",
       "      <td>19,artistic-pizza-new-york,\"[{'alias': 'pizza'...</td>\n",
       "    </tr>\n",
       "    <tr>\n",
       "      <th>20</th>\n",
       "      <td>20,spicy-moon-new-york,\"[{'alias': 'szechuan',...</td>\n",
       "    </tr>\n",
       "    <tr>\n",
       "      <th>21</th>\n",
       "      <td>21,the-cinnamon-snail-new-york-7,\"[{'alias': '...</td>\n",
       "    </tr>\n",
       "    <tr>\n",
       "      <th>22</th>\n",
       "      <td>22,divyas-kitchen-new-york,\"[{'alias': 'vegan'...</td>\n",
       "    </tr>\n",
       "    <tr>\n",
       "      <th>23</th>\n",
       "      <td>23,vegan-love-new-york-2,\"[{'alias': 'vegan', ...</td>\n",
       "    </tr>\n",
       "    <tr>\n",
       "      <th>24</th>\n",
       "      <td>24,orchard-grocer-new-york,\"[{'alias': 'delis'...</td>\n",
       "    </tr>\n",
       "    <tr>\n",
       "      <th>25</th>\n",
       "      <td>25,pure-ktchn-new-york,\"[{'alias': 'salad', 't...</td>\n",
       "    </tr>\n",
       "    <tr>\n",
       "      <th>26</th>\n",
       "      <td>26,toad-style-bedford-stuyvesant,\"[{'alias': '...</td>\n",
       "    </tr>\n",
       "    <tr>\n",
       "      <th>27</th>\n",
       "      <td>27,mthr-vegan-new-york-2,\"[{'alias': 'vegan', ...</td>\n",
       "    </tr>\n",
       "    <tr>\n",
       "      <th>28</th>\n",
       "      <td>28,peacefood-cafe-downtown-new-york,\"[{'alias'...</td>\n",
       "    </tr>\n",
       "    <tr>\n",
       "      <th>29</th>\n",
       "      <td>29,sacred-chow-new-york,\"[{'alias': 'vegetaria...</td>\n",
       "    </tr>\n",
       "    <tr>\n",
       "      <th>...</th>\n",
       "      <td>...</td>\n",
       "    </tr>\n",
       "    <tr>\n",
       "      <th>670</th>\n",
       "      <td>670,gentleman-farmer-fort-greene-brooklyn-2,\"[...</td>\n",
       "    </tr>\n",
       "    <tr>\n",
       "      <th>671</th>\n",
       "      <td>671,the-blue-light-speak-cheesy-fullerton-3,\"[...</td>\n",
       "    </tr>\n",
       "    <tr>\n",
       "      <th>672</th>\n",
       "      <td>672,dr-smood-new-york-9,\"[{'alias': 'cafes', '...</td>\n",
       "    </tr>\n",
       "    <tr>\n",
       "      <th>673</th>\n",
       "      <td>673,mamouns-falafel-new-york-2,\"[{'alias': 'mi...</td>\n",
       "    </tr>\n",
       "    <tr>\n",
       "      <th>674</th>\n",
       "      <td>674,the-shady-lady-astoria,\"[{'alias': 'newame...</td>\n",
       "    </tr>\n",
       "    <tr>\n",
       "      <th>675</th>\n",
       "      <td>675,spice-kitchen-maspeth,\"[{'alias': 'indpak'...</td>\n",
       "    </tr>\n",
       "    <tr>\n",
       "      <th>676</th>\n",
       "      <td>676,shanghai-21-new-york-2,\"[{'alias': 'shangh...</td>\n",
       "    </tr>\n",
       "    <tr>\n",
       "      <th>677</th>\n",
       "      <td>677,memes-diner-brooklyn,\"[{'alias': 'diners',...</td>\n",
       "    </tr>\n",
       "    <tr>\n",
       "      <th>678</th>\n",
       "      <td>678,dosa-hutt-flushing,\"[{'alias': 'indpak', '...</td>\n",
       "    </tr>\n",
       "    <tr>\n",
       "      <th>679</th>\n",
       "      <td>679,ugly-baby-brooklyn-3,\"[{'alias': 'thai', '...</td>\n",
       "    </tr>\n",
       "    <tr>\n",
       "      <th>680</th>\n",
       "      <td>680,the-hummus-and-pita-new-york-4,\"[{'alias':...</td>\n",
       "    </tr>\n",
       "    <tr>\n",
       "      <th>681</th>\n",
       "      <td>681,the-grey-dog-new-york-5,\"[{'alias': 'break...</td>\n",
       "    </tr>\n",
       "    <tr>\n",
       "      <th>682</th>\n",
       "      <td>682,stanleys-pierogi-ridgewood,\"[{'alias': 'go...</td>\n",
       "    </tr>\n",
       "    <tr>\n",
       "      <th>683</th>\n",
       "      <td>683,cheeky-sandwiches-new-york,\"[{'alias': 'sa...</td>\n",
       "    </tr>\n",
       "    <tr>\n",
       "      <th>684</th>\n",
       "      <td>684,elephant-and-castle-new-york,\"[{'alias': '...</td>\n",
       "    </tr>\n",
       "    <tr>\n",
       "      <th>685</th>\n",
       "      <td>685,diner-brooklyn,\"[{'alias': 'diners', 'titl...</td>\n",
       "    </tr>\n",
       "    <tr>\n",
       "      <th>686</th>\n",
       "      <td>686,taim-nolita-new-york,\"[{'alias': 'falafel'...</td>\n",
       "    </tr>\n",
       "    <tr>\n",
       "      <th>687</th>\n",
       "      <td>687,ix-restaurant-brooklyn-3,\"[{'alias': 'coff...</td>\n",
       "    </tr>\n",
       "    <tr>\n",
       "      <th>688</th>\n",
       "      <td>688,oddfellows-ice-cream-co-dumbo-3,\"[{'alias'...</td>\n",
       "    </tr>\n",
       "    <tr>\n",
       "      <th>689</th>\n",
       "      <td>689,the-roof-brooklyn,\"[{'alias': 'newamerican...</td>\n",
       "    </tr>\n",
       "    <tr>\n",
       "      <th>690</th>\n",
       "      <td>690,district-saigon-astoria,\"[{'alias': 'vietn...</td>\n",
       "    </tr>\n",
       "    <tr>\n",
       "      <th>691</th>\n",
       "      <td>691,the-shakespeare-new-york,\"[{'alias': 'pubs...</td>\n",
       "    </tr>\n",
       "    <tr>\n",
       "      <th>692</th>\n",
       "      <td>692,market-crates-new-york,\"[{'alias': 'sandwi...</td>\n",
       "    </tr>\n",
       "    <tr>\n",
       "      <th>693</th>\n",
       "      <td>693,distilled-new-york,\"[{'alias': 'newamerica...</td>\n",
       "    </tr>\n",
       "    <tr>\n",
       "      <th>694</th>\n",
       "      <td>694,l-accolade-new-york,\"[{'alias': 'french', ...</td>\n",
       "    </tr>\n",
       "    <tr>\n",
       "      <th>695</th>\n",
       "      <td>695,boulud-sud-new-york,\"[{'alias': 'mediterra...</td>\n",
       "    </tr>\n",
       "    <tr>\n",
       "      <th>696</th>\n",
       "      <td>696,tasty-hand-pulled-noodles-new-york,\"[{'ali...</td>\n",
       "    </tr>\n",
       "    <tr>\n",
       "      <th>697</th>\n",
       "      <td>697,arepera-guacuco-bed-stuy-brooklyn,\"[{'alia...</td>\n",
       "    </tr>\n",
       "    <tr>\n",
       "      <th>698</th>\n",
       "      <td>698,westville-hudson-new-york,\"[{'alias': 'tra...</td>\n",
       "    </tr>\n",
       "    <tr>\n",
       "      <th>699</th>\n",
       "      <td>699,e-a-k-ramen-new-york-3,\"[{'alias': 'ramen'...</td>\n",
       "    </tr>\n",
       "  </tbody>\n",
       "</table>\n",
       "<p>700 rows × 1 columns</p>\n",
       "</div>"
      ],
      "text/plain": [
       "    ,alias,categories,coordinates,display_phone,distance,id,image_url,is_closed,location,name,phone,price,rating,review_count,transactions,url\n",
       "0    0,jajaja-new-york,\"[{'alias': 'mexican', 'titl...                                                                                        \n",
       "1    1,seasoned-vegan-new-york-2,\"[{'alias': 'vegan...                                                                                        \n",
       "2    2,by-chloe-west-village-new-york,\"[{'alias': '...                                                                                        \n",
       "3    3,xyst-new-york-2,\"[{'alias': 'vegan', 'title'...                                                                                        \n",
       "4    4,urban-vegan-kitchen-new-york,\"[{'alias': 'so...                                                                                        \n",
       "5    5,champs-diner-brooklyn,\"[{'alias': 'vegan', '...                                                                                        \n",
       "6    6,greedi-vegan-brooklyn-3,\"[{'alias': 'vegan',...                                                                                        \n",
       "7    7,spring-cafe-new-york,\"[{'alias': 'vegan', 't...                                                                                        \n",
       "8    8,le-botaniste-new-york-4,\"[{'alias': 'vegetar...                                                                                        \n",
       "9    9,happy-zoe-vegan-bakery-brooklyn,\"[{'alias': ...                                                                                        \n",
       "10   10,original-buddha-bodai-kosher-vegetarian-res...                                                                                        \n",
       "11   11,dirt-candy-new-york-2,\"[{'alias': 'vegetari...                                                                                        \n",
       "12   12,supernatural-new-york,\"[{'alias': 'vegan', ...                                                                                        \n",
       "13   13,le-botaniste-new-york-5,\"[{'alias': 'vegan'...                                                                                        \n",
       "14   14,by-chloe-flatiron-new-york-2,\"[{'alias': 'v...                                                                                        \n",
       "15   15,double-zero-new-york,\"[{'alias': 'pizza', '...                                                                                        \n",
       "16   16,bar-verde-new-york,\"[{'alias': 'mexican', '...                                                                                        \n",
       "17   17,honeybee-s-new-york,\"[{'alias': 'vegan', 't...                                                                                        \n",
       "18   18,peacefood-cafe-new-york-5,\"[{'alias': 'vega...                                                                                        \n",
       "19   19,artistic-pizza-new-york,\"[{'alias': 'pizza'...                                                                                        \n",
       "20   20,spicy-moon-new-york,\"[{'alias': 'szechuan',...                                                                                        \n",
       "21   21,the-cinnamon-snail-new-york-7,\"[{'alias': '...                                                                                        \n",
       "22   22,divyas-kitchen-new-york,\"[{'alias': 'vegan'...                                                                                        \n",
       "23   23,vegan-love-new-york-2,\"[{'alias': 'vegan', ...                                                                                        \n",
       "24   24,orchard-grocer-new-york,\"[{'alias': 'delis'...                                                                                        \n",
       "25   25,pure-ktchn-new-york,\"[{'alias': 'salad', 't...                                                                                        \n",
       "26   26,toad-style-bedford-stuyvesant,\"[{'alias': '...                                                                                        \n",
       "27   27,mthr-vegan-new-york-2,\"[{'alias': 'vegan', ...                                                                                        \n",
       "28   28,peacefood-cafe-downtown-new-york,\"[{'alias'...                                                                                        \n",
       "29   29,sacred-chow-new-york,\"[{'alias': 'vegetaria...                                                                                        \n",
       "..                                                 ...                                                                                        \n",
       "670  670,gentleman-farmer-fort-greene-brooklyn-2,\"[...                                                                                        \n",
       "671  671,the-blue-light-speak-cheesy-fullerton-3,\"[...                                                                                        \n",
       "672  672,dr-smood-new-york-9,\"[{'alias': 'cafes', '...                                                                                        \n",
       "673  673,mamouns-falafel-new-york-2,\"[{'alias': 'mi...                                                                                        \n",
       "674  674,the-shady-lady-astoria,\"[{'alias': 'newame...                                                                                        \n",
       "675  675,spice-kitchen-maspeth,\"[{'alias': 'indpak'...                                                                                        \n",
       "676  676,shanghai-21-new-york-2,\"[{'alias': 'shangh...                                                                                        \n",
       "677  677,memes-diner-brooklyn,\"[{'alias': 'diners',...                                                                                        \n",
       "678  678,dosa-hutt-flushing,\"[{'alias': 'indpak', '...                                                                                        \n",
       "679  679,ugly-baby-brooklyn-3,\"[{'alias': 'thai', '...                                                                                        \n",
       "680  680,the-hummus-and-pita-new-york-4,\"[{'alias':...                                                                                        \n",
       "681  681,the-grey-dog-new-york-5,\"[{'alias': 'break...                                                                                        \n",
       "682  682,stanleys-pierogi-ridgewood,\"[{'alias': 'go...                                                                                        \n",
       "683  683,cheeky-sandwiches-new-york,\"[{'alias': 'sa...                                                                                        \n",
       "684  684,elephant-and-castle-new-york,\"[{'alias': '...                                                                                        \n",
       "685  685,diner-brooklyn,\"[{'alias': 'diners', 'titl...                                                                                        \n",
       "686  686,taim-nolita-new-york,\"[{'alias': 'falafel'...                                                                                        \n",
       "687  687,ix-restaurant-brooklyn-3,\"[{'alias': 'coff...                                                                                        \n",
       "688  688,oddfellows-ice-cream-co-dumbo-3,\"[{'alias'...                                                                                        \n",
       "689  689,the-roof-brooklyn,\"[{'alias': 'newamerican...                                                                                        \n",
       "690  690,district-saigon-astoria,\"[{'alias': 'vietn...                                                                                        \n",
       "691  691,the-shakespeare-new-york,\"[{'alias': 'pubs...                                                                                        \n",
       "692  692,market-crates-new-york,\"[{'alias': 'sandwi...                                                                                        \n",
       "693  693,distilled-new-york,\"[{'alias': 'newamerica...                                                                                        \n",
       "694  694,l-accolade-new-york,\"[{'alias': 'french', ...                                                                                        \n",
       "695  695,boulud-sud-new-york,\"[{'alias': 'mediterra...                                                                                        \n",
       "696  696,tasty-hand-pulled-noodles-new-york,\"[{'ali...                                                                                        \n",
       "697  697,arepera-guacuco-bed-stuy-brooklyn,\"[{'alia...                                                                                        \n",
       "698  698,westville-hudson-new-york,\"[{'alias': 'tra...                                                                                        \n",
       "699  699,e-a-k-ramen-new-york-3,\"[{'alias': 'ramen'...                                                                                        \n",
       "\n",
       "[700 rows x 1 columns]"
      ]
     },
     "execution_count": 45,
     "metadata": {},
     "output_type": "execute_result"
    }
   ],
   "source": [
    "df_vegan_NY_csv"
   ]
  },
  {
   "cell_type": "code",
   "execution_count": 22,
   "metadata": {},
   "outputs": [],
   "source": [
    "# df_vegan_NY"
   ]
  },
  {
   "cell_type": "code",
   "execution_count": 51,
   "metadata": {},
   "outputs": [],
   "source": [
    "df_vegan_NY = pd.DataFrame(df_vegan_NY_csv , columns  = [[ 'name' , 'price', 'rating']])"
   ]
  },
  {
   "cell_type": "code",
   "execution_count": 52,
   "metadata": {},
   "outputs": [
    {
     "data": {
      "text/html": [
       "<div>\n",
       "<style scoped>\n",
       "    .dataframe tbody tr th:only-of-type {\n",
       "        vertical-align: middle;\n",
       "    }\n",
       "\n",
       "    .dataframe tbody tr th {\n",
       "        vertical-align: top;\n",
       "    }\n",
       "\n",
       "    .dataframe thead tr th {\n",
       "        text-align: left;\n",
       "    }\n",
       "</style>\n",
       "<table border=\"1\" class=\"dataframe\">\n",
       "  <thead>\n",
       "    <tr>\n",
       "      <th></th>\n",
       "      <th>name</th>\n",
       "      <th>price</th>\n",
       "      <th>rating</th>\n",
       "    </tr>\n",
       "  </thead>\n",
       "  <tbody>\n",
       "    <tr>\n",
       "      <th>0</th>\n",
       "      <td>NaN</td>\n",
       "      <td>NaN</td>\n",
       "      <td>NaN</td>\n",
       "    </tr>\n",
       "    <tr>\n",
       "      <th>1</th>\n",
       "      <td>NaN</td>\n",
       "      <td>NaN</td>\n",
       "      <td>NaN</td>\n",
       "    </tr>\n",
       "    <tr>\n",
       "      <th>2</th>\n",
       "      <td>NaN</td>\n",
       "      <td>NaN</td>\n",
       "      <td>NaN</td>\n",
       "    </tr>\n",
       "    <tr>\n",
       "      <th>3</th>\n",
       "      <td>NaN</td>\n",
       "      <td>NaN</td>\n",
       "      <td>NaN</td>\n",
       "    </tr>\n",
       "    <tr>\n",
       "      <th>4</th>\n",
       "      <td>NaN</td>\n",
       "      <td>NaN</td>\n",
       "      <td>NaN</td>\n",
       "    </tr>\n",
       "  </tbody>\n",
       "</table>\n",
       "</div>"
      ],
      "text/plain": [
       "  name price rating\n",
       "0  NaN   NaN    NaN\n",
       "1  NaN   NaN    NaN\n",
       "2  NaN   NaN    NaN\n",
       "3  NaN   NaN    NaN\n",
       "4  NaN   NaN    NaN"
      ]
     },
     "execution_count": 52,
     "metadata": {},
     "output_type": "execute_result"
    }
   ],
   "source": [
    "df_vegan_NY.head()"
   ]
  },
  {
   "cell_type": "code",
   "execution_count": null,
   "metadata": {},
   "outputs": [],
   "source": []
  }
 ],
 "metadata": {
  "kernelspec": {
   "display_name": "Python 3",
   "language": "python",
   "name": "python3"
  },
  "language_info": {
   "codemirror_mode": {
    "name": "ipython",
    "version": 3
   },
   "file_extension": ".py",
   "mimetype": "text/x-python",
   "name": "python",
   "nbconvert_exporter": "python",
   "pygments_lexer": "ipython3",
   "version": "3.7.3"
  }
 },
 "nbformat": 4,
 "nbformat_minor": 2
}
