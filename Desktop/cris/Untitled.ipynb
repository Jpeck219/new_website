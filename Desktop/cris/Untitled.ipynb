{
 "cells": [
  {
   "cell_type": "code",
   "execution_count": 1,
   "metadata": {},
   "outputs": [],
   "source": [
    "import pandas as pd"
   ]
  },
  {
   "cell_type": "code",
   "execution_count": 7,
   "metadata": {},
   "outputs": [],
   "source": [
    "import numpy as np\n",
    "import requests\n",
    "import json"
   ]
  },
  {
   "cell_type": "code",
   "execution_count": 4,
   "metadata": {},
   "outputs": [],
   "source": [
    "Client ID\n",
    "E1AQMelCA8e5oZKc-yWfhg\n",
    "\n",
    "API Key\n",
    "43p9tSwkbBOVCEUsTURSCAQOXKzbiPIa5r0fTt3cKZT6W2zSXaT3nGQV4MUgu6EPQHKvPeqbio9N6sUMM3Ycug_3xphoP48sFtUf9wx-JdAWLPzGhZZP2c4hTF8SXXYx"
   ]
  },
  {
   "cell_type": "code",
   "execution_count": 5,
   "metadata": {},
   "outputs": [
    {
     "data": {
      "text/plain": [
       "array(1)"
      ]
     },
     "execution_count": 5,
     "metadata": {},
     "output_type": "execute_result"
    }
   ],
   "source": [
    "key = -nB2cny8cbRJi9JOddCcuIvQ26lCzDWo4EVhEqIZlQRqyFGicIT8p6ORE-KuDYs6uQJ3pX0ybaA9da-F_8Q_E2EZ63j_IDfdBUHtYnlyZila6D_taEuHBWnIyzISXXYx"
   ]
  },
  {
   "cell_type": "code",
   "execution_count": null,
   "metadata": {},
   "outputs": [],
   "source": [
    "# Your code here; use a function or loop to retrieve all the results from your original request\n",
    "import pandas as pd\n",
    "import time\n",
    "\n",
    "def yelp_call(url_params, api_key):\n",
    "    url = 'https://api.yelp.com/v3/businesses/search'\n",
    "    headers = {'Authorization': 'Bearer {}'.format(api_key)}\n",
    "    response = requests.get(url, headers=headers, params=url_params)\n",
    "    # put a loop here and return\n",
    "    \n",
    "    df = pd.DataFrame(response.json()['businesses'])\n",
    "    return df\n",
    "\n",
    "def all_results(url_params, api_key):\n",
    "    num = response.json()['total']\n",
    "    print('{} total matches found.'.format(num))\n",
    "    cur = 0\n",
    "    dfs = []\n",
    "    while cur < num and cur < 1000:\n",
    "        url_params['offset'] = cur\n",
    "        dfs.append(yelp_call(url_params, api_key)) # change for a df\n",
    "        time.sleep(1) #Wait a second\n",
    "        cur += 50\n",
    "    df = pd.concat(dfs, ignore_index=True)\n",
    "    return df\n",
    "\n",
    "term = 'pizza'\n",
    "location = 'Astoria NY'\n",
    "url_params = {  'term': term.replace(' ', '+'),\n",
    "                'location': location.replace(' ', '+'),\n",
    "                'limit' : 50\n",
    "             }\n",
    "df = all_results(url_params, api_key)\n",
    "print(len(df))\n",
    "df.head()"
   ]
  }
 ],
 "metadata": {
  "kernelspec": {
   "display_name": "Python 3",
   "language": "python",
   "name": "python3"
  },
  "language_info": {
   "codemirror_mode": {
    "name": "ipython",
    "version": 3
   },
   "file_extension": ".py",
   "mimetype": "text/x-python",
   "name": "python",
   "nbconvert_exporter": "python",
   "pygments_lexer": "ipython3",
   "version": "3.7.3"
  }
 },
 "nbformat": 4,
 "nbformat_minor": 2
}
